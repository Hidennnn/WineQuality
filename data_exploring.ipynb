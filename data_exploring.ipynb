{
 "cells": [
  {
   "cell_type": "markdown",
   "source": [
    "A target is quality."
   ],
   "metadata": {
    "collapsed": false,
    "pycharm": {
     "name": "#%% md\n"
    }
   }
  },
  {
   "cell_type": "code",
   "execution_count": 22,
   "outputs": [],
   "source": [
    "import matplotlib.pyplot as plt\n",
    "import pandas as pd\n",
    "import seaborn as sns"
   ],
   "metadata": {
    "collapsed": false,
    "ExecuteTime": {
     "end_time": "2023-07-13T17:48:14.772216Z",
     "start_time": "2023-07-13T17:48:14.766268Z"
    },
    "pycharm": {
     "name": "#%%\n"
    }
   }
  },
  {
   "cell_type": "code",
   "execution_count": 23,
   "outputs": [],
   "source": [
    "df = pd.read_csv('winequality-red.csv')"
   ],
   "metadata": {
    "collapsed": false,
    "ExecuteTime": {
     "end_time": "2023-07-13T17:48:15.134397Z",
     "start_time": "2023-07-13T17:48:15.125395Z"
    },
    "pycharm": {
     "name": "#%%\n"
    }
   }
  },
  {
   "cell_type": "code",
   "execution_count": null,
   "outputs": [],
   "source": [
    "df.describe()"
   ],
   "metadata": {
    "collapsed": false,
    "ExecuteTime": {
     "end_time": "2023-07-13T17:48:15.554379Z",
     "start_time": "2023-07-13T17:48:15.537024Z"
    },
    "pycharm": {
     "name": "#%%\n",
     "is_executing": true
    }
   }
  },
  {
   "cell_type": "markdown",
   "source": [
    "Fixed acidity, free sulfur dioxide, total sulfur dioxide, sulphates has relatively much smaller 50% than mean - posibility of outliers what is seeing also in max value.\n",
    "Any wine has 1, 2, 9 or 10 for quality. We have rates between 3 and 8. So we can't predict when wine has 1, 2, 9 or 10 (we can try, but it isn't good when it's impossible to test)"
   ],
   "metadata": {
    "collapsed": false,
    "pycharm": {
     "name": "#%% md\n"
    }
   }
  },
  {
   "cell_type": "code",
   "execution_count": 25,
   "outputs": [],
   "source": [
    "df['quality'] = df['quality'].transform(lambda x: x-3)"
   ],
   "metadata": {
    "collapsed": false,
    "ExecuteTime": {
     "end_time": "2023-07-13T17:48:17.041359Z",
     "start_time": "2023-07-13T17:48:17.031988Z"
    },
    "pycharm": {
     "name": "#%%\n"
    }
   }
  },
  {
   "cell_type": "code",
   "execution_count": null,
   "outputs": [],
   "source": [
    "corr_matrix = df.corr()\n",
    "plt.rcParams.update({'font.size': 10})\n",
    "plt.figure(figsize=(10, 10))\n",
    "sns.heatmap(corr_matrix, annot=True)\n",
    "plt.show()"
   ],
   "metadata": {
    "collapsed": false,
    "ExecuteTime": {
     "end_time": "2023-07-13T17:48:18.269864Z",
     "start_time": "2023-07-13T17:48:18.034089Z"
    },
    "pycharm": {
     "name": "#%%\n",
     "is_executing": true
    }
   }
  },
  {
   "cell_type": "markdown",
   "source": [
    "I don't see any good correlation with quality. The best is alcohol, but it's only 0.48. The highest absolute correlation is -0.68 which is between fixed acidity and pH, but some are about 0.5 and higher which can cause problem with multicollinearity.\n",
    "\n",
    "Delete for future:\n",
    "volatile acidity vs citric acid - volatile acidity has multicollinearity only with citric acid and has better correlation with quality - volatile acidity stays\n",
    "\n",
    "free sulfur dioxide vs total sulfur dioxide - the same number of multicollinearities but total sulfur dioxide has better correlation with quality - total sulfur dioxide stays\n",
    "\n",
    "fixed acidity vs density - fixed acidity has more multicollinearities and worse correlation with quality - denisty stays"
   ],
   "metadata": {
    "collapsed": false,
    "pycharm": {
     "name": "#%% md\n"
    }
   }
  },
  {
   "cell_type": "code",
   "execution_count": 12,
   "outputs": [],
   "source": [
    "sns.set()\n",
    "sns.pairplot(df)\n",
    "plt.savefig('pairplot.png')\n",
    "plt.show()"
   ],
   "metadata": {
    "collapsed": false,
    "ExecuteTime": {
     "end_time": "2023-07-09T16:27:57.545627Z",
     "start_time": "2023-07-09T16:27:42.639678Z"
    },
    "pycharm": {
     "name": "#%%\n"
    }
   }
  },
  {
   "cell_type": "markdown",
   "source": [
    "The most wines have quality 5 or 6, possible it's big bias. Fixed acidity has some linear/polynomial relation with citric acid, density and pH. Volatile acidity has linear relation with citric acid (negative relation). Density has linear/polynomial negative relation with alcohol."
   ],
   "metadata": {
    "collapsed": false,
    "pycharm": {
     "name": "#%% md\n"
    }
   }
  },
  {
   "cell_type": "code",
   "execution_count": null,
   "outputs": [],
   "source": [
    "print(df.isnull().sum())"
   ],
   "metadata": {
    "collapsed": false,
    "ExecuteTime": {
     "end_time": "2023-07-06T23:37:09.959064Z",
     "start_time": "2023-07-06T23:37:09.953284Z"
    },
    "pycharm": {
     "name": "#%%\n",
     "is_executing": true
    }
   }
  },
  {
   "cell_type": "markdown",
   "source": [
    "No missing values.\n",
    "\n",
    "Make the same EDA for 2 classes (bad <= 5 and good >= 6)"
   ],
   "metadata": {
    "collapsed": false,
    "pycharm": {
     "name": "#%% md\n"
    }
   }
  },
  {
   "cell_type": "code",
   "execution_count": 13,
   "outputs": [],
   "source": [
    "df = pd.read_csv('winequality-red.csv')"
   ],
   "metadata": {
    "collapsed": false,
    "ExecuteTime": {
     "end_time": "2023-07-13T17:36:34.512554Z",
     "start_time": "2023-07-13T17:36:34.502795Z"
    },
    "pycharm": {
     "name": "#%%\n"
    }
   }
  },
  {
   "cell_type": "code",
   "execution_count": 14,
   "outputs": [],
   "source": [
    "df['quality'] = df['quality'].transform(lambda x: 0 if x <= 5 else 1)"
   ],
   "metadata": {
    "collapsed": false,
    "ExecuteTime": {
     "end_time": "2023-07-13T17:36:34.600420Z",
     "start_time": "2023-07-13T17:36:34.593221Z"
    },
    "pycharm": {
     "name": "#%%\n"
    }
   }
  },
  {
   "cell_type": "code",
   "execution_count": null,
   "outputs": [],
   "source": [
    "df.describe()"
   ],
   "metadata": {
    "collapsed": false,
    "ExecuteTime": {
     "end_time": "2023-07-13T17:28:11.768248Z",
     "start_time": "2023-07-13T17:28:11.729798Z"
    },
    "pycharm": {
     "name": "#%%\n",
     "is_executing": true
    }
   }
  },
  {
   "cell_type": "markdown",
   "source": [
    "The mean of quality is about 0.5 so classes are balanced now."
   ],
   "metadata": {
    "collapsed": false,
    "pycharm": {
     "name": "#%% md\n"
    }
   }
  },
  {
   "cell_type": "code",
   "execution_count": null,
   "outputs": [],
   "source": [
    "corr_matrix = df.corr()\n",
    "plt.rcParams.update({'font.size': 10})\n",
    "plt.figure(figsize=(10, 10))\n",
    "sns.heatmap(corr_matrix, annot=True)\n",
    "plt.show()"
   ],
   "metadata": {
    "collapsed": false,
    "ExecuteTime": {
     "end_time": "2023-07-13T17:30:01.444162Z",
     "start_time": "2023-07-13T17:30:01.211862Z"
    },
    "pycharm": {
     "name": "#%%\n",
     "is_executing": true
    }
   }
  },
  {
   "cell_type": "markdown",
   "source": [
    "After grouping qualities correlations with targets are worse. Now the best is 0.43 also with alcohol.\n",
    "\n",
    "Let's work with outliers"
   ],
   "metadata": {
    "collapsed": false,
    "pycharm": {
     "name": "#%% md\n"
    }
   }
  },
  {
   "cell_type": "code",
   "execution_count": null,
   "outputs": [],
   "source": [
    "sns.boxplot(y=df['volatile acidity'])\n",
    "plt.show()"
   ],
   "metadata": {
    "collapsed": false,
    "ExecuteTime": {
     "end_time": "2023-07-13T17:35:54.544970Z",
     "start_time": "2023-07-13T17:35:54.491191Z"
    },
    "pycharm": {
     "name": "#%%\n",
     "is_executing": true
    }
   }
  },
  {
   "cell_type": "code",
   "execution_count": null,
   "outputs": [],
   "source": [
    "sns.boxplot(y=df['citric acid'])\n",
    "plt.show()"
   ],
   "metadata": {
    "collapsed": false,
    "ExecuteTime": {
     "end_time": "2023-07-13T17:36:10.288985Z",
     "start_time": "2023-07-13T17:36:10.246875Z"
    },
    "pycharm": {
     "name": "#%%\n",
     "is_executing": true
    }
   }
  },
  {
   "cell_type": "code",
   "execution_count": null,
   "outputs": [],
   "source": [
    "sns.boxplot(y=df['chlorides'])\n",
    "plt.show()"
   ],
   "metadata": {
    "collapsed": false,
    "ExecuteTime": {
     "end_time": "2023-07-13T17:36:57.562978Z",
     "start_time": "2023-07-13T17:36:57.499195Z"
    },
    "pycharm": {
     "name": "#%%\n",
     "is_executing": true
    }
   }
  },
  {
   "cell_type": "code",
   "execution_count": null,
   "outputs": [],
   "source": [
    "sns.histplot(df['chlorides'])\n",
    "plt.show()"
   ],
   "metadata": {
    "collapsed": false,
    "ExecuteTime": {
     "end_time": "2023-07-13T17:37:19.767897Z",
     "start_time": "2023-07-13T17:37:19.547938Z"
    },
    "pycharm": {
     "name": "#%%\n",
     "is_executing": true
    }
   }
  },
  {
   "cell_type": "code",
   "execution_count": null,
   "outputs": [],
   "source": [
    "sns.boxplot(y=df['total sulfur dioxide'])\n",
    "plt.show()"
   ],
   "metadata": {
    "collapsed": false,
    "ExecuteTime": {
     "end_time": "2023-07-13T17:38:24.835721Z",
     "start_time": "2023-07-13T17:38:24.792224Z"
    },
    "pycharm": {
     "name": "#%%\n",
     "is_executing": true
    }
   }
  }
 ],
 "metadata": {
  "kernelspec": {
   "display_name": "Python 3",
   "language": "python",
   "name": "python3"
  },
  "language_info": {
   "codemirror_mode": {
    "name": "ipython",
    "version": 2
   },
   "file_extension": ".py",
   "mimetype": "text/x-python",
   "name": "python",
   "nbconvert_exporter": "python",
   "pygments_lexer": "ipython2",
   "version": "2.7.6"
  }
 },
 "nbformat": 4,
 "nbformat_minor": 0
}