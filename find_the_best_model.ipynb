{
 "cells": [
  {
   "cell_type": "code",
   "execution_count": 33,
   "metadata": {
    "collapsed": true,
    "ExecuteTime": {
     "end_time": "2023-07-14T16:09:55.691840Z",
     "start_time": "2023-07-14T16:09:55.679364Z"
    },
    "pycharm": {
     "name": "#%%\n"
    }
   },
   "outputs": [],
   "source": [
    "import pandas as pd\n",
    "from sklearn.ensemble import RandomForestClassifier\n",
    "from sklearn.metrics import classification_report\n",
    "from sklearn.model_selection import GridSearchCV\n",
    "from sklearn.model_selection import train_test_split\n",
    "from sklearn.preprocessing import MinMaxScaler"
   ]
  },
  {
   "cell_type": "code",
   "execution_count": 34,
   "outputs": [],
   "source": [
    "df = pd.read_csv('winequality-red.csv')\n",
    "df['quality'] = df['quality'].transform(lambda x: 0 if x <= 5 else 1)\n",
    "\n",
    "df.pop('citric acid')\n",
    "df.pop('free sulfur dioxide')\n",
    "df.pop('fixed acidity')\n",
    "\n",
    "df = df.drop(df[(df['volatile acidity'] > 1.0)].index)\n",
    "df = df.drop(df[(df['chlorides'] > 0.15)].index)\n",
    "df = df.drop(df[(df['total sulfur dioxide'] > 125)].index)\n",
    "\n",
    "target = df.pop('quality')\n",
    "features = df\n",
    "features = MinMaxScaler().fit_transform(features)\n",
    "x_train, x_test, y_train, y_test = train_test_split(features, target, test_size=0.2, random_state=1234)"
   ],
   "metadata": {
    "collapsed": false,
    "ExecuteTime": {
     "end_time": "2023-07-14T16:09:56.152743Z",
     "start_time": "2023-07-14T16:09:56.140676Z"
    },
    "pycharm": {
     "name": "#%%\n"
    }
   }
  },
  {
   "cell_type": "code",
   "execution_count": 5,
   "outputs": [],
   "source": [
    "params = {\n",
    "    'n_estimators': [200, 250, 300, 350, 400, 450, 500],\n",
    "    'criterion': ['gini', 'entropy', 'log_loss'],\n",
    "    'max_depth': [None, 10, 50, 100, 200],\n",
    "    'min_samples_split': [2, 4, 8, 10, 20],\n",
    "    'min_samples_leaf': [1, 2, 5, 10, 20]\n",
    "}"
   ],
   "metadata": {
    "collapsed": false,
    "ExecuteTime": {
     "end_time": "2023-07-14T10:37:00.415189Z",
     "start_time": "2023-07-14T10:37:00.405098Z"
    },
    "pycharm": {
     "name": "#%%\n"
    }
   }
  },
  {
   "cell_type": "code",
   "execution_count": null,
   "outputs": [],
   "source": [
    "gsc = GridSearchCV(RandomForestClassifier(), param_grid=params, verbose=3, cv=5)\n",
    "gsc.fit(x_train, y_train)"
   ],
   "metadata": {
    "collapsed": false,
    "ExecuteTime": {
     "end_time": "2023-07-14T11:48:04.663799Z",
     "start_time": "2023-07-14T10:37:30.377952Z"
    },
    "pycharm": {
     "name": "#%%\n",
     "is_executing": true
    }
   }
  },
  {
   "cell_type": "code",
   "execution_count": null,
   "outputs": [],
   "source": [
    "gsc.best_score_"
   ],
   "metadata": {
    "collapsed": false,
    "ExecuteTime": {
     "end_time": "2023-07-14T11:48:56.602303Z",
     "start_time": "2023-07-14T11:48:56.594213Z"
    },
    "pycharm": {
     "name": "#%%\n",
     "is_executing": true
    }
   }
  },
  {
   "cell_type": "code",
   "execution_count": null,
   "outputs": [],
   "source": [
    "gsc.best_params_"
   ],
   "metadata": {
    "collapsed": false,
    "ExecuteTime": {
     "end_time": "2023-07-14T11:48:57.927318Z",
     "start_time": "2023-07-14T11:48:57.920018Z"
    },
    "pycharm": {
     "name": "#%%\n",
     "is_executing": true
    }
   }
  },
  {
   "cell_type": "code",
   "execution_count": null,
   "outputs": [],
   "source": [
    "print(classification_report(y_test, gsc.predict(x_test)))"
   ],
   "metadata": {
    "collapsed": false,
    "ExecuteTime": {
     "end_time": "2023-07-14T11:49:25.957721Z",
     "start_time": "2023-07-14T11:49:25.928688Z"
    },
    "pycharm": {
     "name": "#%%\n",
     "is_executing": true
    }
   }
  },
  {
   "cell_type": "code",
   "execution_count": null,
   "outputs": [],
   "source": [
    "params = {\n",
    "    'n_estimators': [410, 420, 430, 440, 450, 460, 470, 480, 490],\n",
    "    'criterion': ['log_loss'],\n",
    "    'max_depth': [None, 300, 400],\n",
    "    'min_samples_split': [4, 5, 6, 7],\n",
    "    'min_samples_leaf': [2, 3, 4]\n",
    "}"
   ],
   "metadata": {
    "collapsed": false,
    "pycharm": {
     "name": "#%%\n"
    }
   }
  },
  {
   "cell_type": "code",
   "execution_count": null,
   "outputs": [],
   "source": [
    "gsc = GridSearchCV(RandomForestClassifier(), param_grid=params, verbose=3, cv=5)\n",
    "gsc.fit(x_train, y_train)"
   ],
   "metadata": {
    "collapsed": false,
    "ExecuteTime": {
     "end_time": "2023-07-14T12:36:33.325788Z",
     "start_time": "2023-07-14T12:23:01.014617Z"
    },
    "pycharm": {
     "name": "#%%\n",
     "is_executing": true
    }
   }
  },
  {
   "cell_type": "code",
   "execution_count": null,
   "outputs": [],
   "source": [
    "gsc.best_score_"
   ],
   "metadata": {
    "collapsed": false,
    "ExecuteTime": {
     "end_time": "2023-07-14T12:55:34.274447Z",
     "start_time": "2023-07-14T12:55:34.263094Z"
    },
    "pycharm": {
     "name": "#%%\n",
     "is_executing": true
    }
   }
  },
  {
   "cell_type": "code",
   "execution_count": null,
   "outputs": [],
   "source": [
    "gsc.best_params_"
   ],
   "metadata": {
    "collapsed": false,
    "ExecuteTime": {
     "end_time": "2023-07-14T12:55:36.749069Z",
     "start_time": "2023-07-14T12:55:36.739781Z"
    },
    "pycharm": {
     "name": "#%%\n",
     "is_executing": true
    }
   }
  },
  {
   "cell_type": "code",
   "execution_count": null,
   "outputs": [],
   "source": [
    "print(classification_report(y_test, gsc.predict(x_test)))"
   ],
   "metadata": {
    "collapsed": false,
    "ExecuteTime": {
     "end_time": "2023-07-14T12:55:43.673086Z",
     "start_time": "2023-07-14T12:55:43.631150Z"
    },
    "pycharm": {
     "name": "#%%\n",
     "is_executing": true
    }
   }
  },
  {
   "cell_type": "code",
   "execution_count": null,
   "outputs": [],
   "source": [
    "params = {\n",
    "    'n_estimators': [441, 442, 443, 444, 445, 446, 447, 448, 449, 450, 451, 452, 453, 454, 455, 456, 457, 458, 459],\n",
    "    'criterion': ['log_loss'],\n",
    "    'max_depth': [None, 500, 600],\n",
    "    'min_samples_split': [4, 5],\n",
    "    'min_samples_leaf': [2]\n",
    "}"
   ],
   "metadata": {
    "collapsed": false,
    "pycharm": {
     "name": "#%%\n"
    }
   }
  },
  {
   "cell_type": "code",
   "execution_count": null,
   "outputs": [],
   "source": [
    "gsc = GridSearchCV(RandomForestClassifier(), param_grid=params, verbose=3, cv=5)\n",
    "gsc.fit(x_train, y_train)"
   ],
   "metadata": {
    "collapsed": false,
    "ExecuteTime": {
     "end_time": "2023-07-14T13:01:10.465335Z",
     "start_time": "2023-07-14T12:56:38.528811Z"
    },
    "pycharm": {
     "name": "#%%\n",
     "is_executing": true
    }
   }
  },
  {
   "cell_type": "code",
   "execution_count": null,
   "outputs": [],
   "source": [
    "gsc.best_score_"
   ],
   "metadata": {
    "collapsed": false,
    "ExecuteTime": {
     "end_time": "2023-07-14T13:05:54.401910Z",
     "start_time": "2023-07-14T13:05:54.379381Z"
    },
    "pycharm": {
     "name": "#%%\n",
     "is_executing": true
    }
   }
  },
  {
   "cell_type": "code",
   "execution_count": null,
   "outputs": [],
   "source": [
    "gsc.best_params_"
   ],
   "metadata": {
    "collapsed": false,
    "ExecuteTime": {
     "end_time": "2023-07-14T13:05:59.911263Z",
     "start_time": "2023-07-14T13:05:59.906603Z"
    },
    "pycharm": {
     "name": "#%%\n",
     "is_executing": true
    }
   }
  },
  {
   "cell_type": "code",
   "execution_count": null,
   "outputs": [],
   "source": [
    "print(classification_report(y_test, gsc.predict(x_test)))"
   ],
   "metadata": {
    "collapsed": false,
    "ExecuteTime": {
     "end_time": "2023-07-14T13:06:20.552511Z",
     "start_time": "2023-07-14T13:06:20.507493Z"
    },
    "pycharm": {
     "name": "#%%\n",
     "is_executing": true
    }
   }
  },
  {
   "cell_type": "markdown",
   "source": [
    "So the best model is **Random Forest** with **442 estimators**, **log_loss** as split criterion, with **2 minimal samples in leaf** and with **4 minimal samples in split**."
   ],
   "metadata": {
    "collapsed": false,
    "pycharm": {
     "name": "#%% md\n"
    }
   }
  },
  {
   "cell_type": "markdown",
   "source": [
    "Now test this model for every class."
   ],
   "metadata": {
    "collapsed": false,
    "pycharm": {
     "name": "#%% md\n"
    }
   }
  },
  {
   "cell_type": "code",
   "execution_count": 24,
   "outputs": [],
   "source": [
    "df = pd.read_csv('winequality-red.csv')\n",
    "df['quality'] = df['quality'].transform(lambda x: x-3)\n",
    "\n",
    "df.pop('citric acid')\n",
    "df.pop('free sulfur dioxide')\n",
    "df.pop('fixed acidity')\n",
    "\n",
    "df = df.drop(df[(df['volatile acidity'] > 1.0)].index)\n",
    "df = df.drop(df[(df['chlorides'] > 0.15)].index)\n",
    "df = df.drop(df[(df['total sulfur dioxide'] > 125)].index)\n",
    "\n",
    "target = df.pop('quality')\n",
    "features = df\n",
    "features = MinMaxScaler().fit_transform(features)\n",
    "x_train, x_test, y_train, y_test = train_test_split(features, target, test_size=0.2, random_state=1234)"
   ],
   "metadata": {
    "collapsed": false,
    "ExecuteTime": {
     "end_time": "2023-07-14T13:08:37.781878Z",
     "start_time": "2023-07-14T13:08:37.727638Z"
    },
    "pycharm": {
     "name": "#%%\n"
    }
   }
  },
  {
   "cell_type": "code",
   "execution_count": null,
   "outputs": [],
   "source": [
    "rfc = RandomForestClassifier(n_estimators=442, criterion='log_loss', min_samples_split=4, min_samples_leaf=2)\n",
    "rfc.fit(x_train, y_train)"
   ],
   "metadata": {
    "collapsed": false,
    "ExecuteTime": {
     "end_time": "2023-07-14T13:10:09.043773Z",
     "start_time": "2023-07-14T13:10:08.400980Z"
    },
    "pycharm": {
     "name": "#%%\n",
     "is_executing": true
    }
   }
  },
  {
   "cell_type": "code",
   "execution_count": null,
   "outputs": [],
   "source": [
    "print(classification_report(y_test, rfc.predict(x_test)))"
   ],
   "metadata": {
    "collapsed": false,
    "ExecuteTime": {
     "end_time": "2023-07-14T13:11:15.542049Z",
     "start_time": "2023-07-14T13:11:15.498527Z"
    },
    "pycharm": {
     "name": "#%%\n",
     "is_executing": true
    }
   }
  },
  {
   "cell_type": "markdown",
   "source": [
    "Result is about **15% points** smaller than model for 2 classes. Even if the accuracy isn't much worse, performance of the model is poor because the model is **biased to 2 (5) and 3 (6)**. It's caused by the overwhelming number of cases for that quality. Other problem is too small number of cases for another quality categories, so I don't think reduction of the cases with 2 or 3 quality would help."
   ],
   "metadata": {
    "collapsed": false,
    "pycharm": {
     "name": "#%% md\n"
    }
   }
  },
  {
   "cell_type": "markdown",
   "source": [
    "Problems with dataset:\n",
    "- Massive bias in target data - 2 classes have colossal difference to another classes. What's more 1, 2, 9 and 10 don't exist in dataset.\n",
    "- Any outstanding features which can help to predict."
   ],
   "metadata": {
    "collapsed": false,
    "pycharm": {
     "name": "#%% md\n"
    }
   }
  },
  {
   "cell_type": "code",
   "execution_count": null,
   "outputs": [],
   "source": [],
   "metadata": {
    "collapsed": false,
    "pycharm": {
     "name": "#%%\n"
    }
   }
  }
 ],
 "metadata": {
  "kernelspec": {
   "display_name": "Python 3",
   "language": "python",
   "name": "python3"
  },
  "language_info": {
   "codemirror_mode": {
    "name": "ipython",
    "version": 2
   },
   "file_extension": ".py",
   "mimetype": "text/x-python",
   "name": "python",
   "nbconvert_exporter": "python",
   "pygments_lexer": "ipython2",
   "version": "2.7.6"
  }
 },
 "nbformat": 4,
 "nbformat_minor": 0
}